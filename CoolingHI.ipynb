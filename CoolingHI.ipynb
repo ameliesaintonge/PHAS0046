{
 "cells": [
  {
   "cell_type": "markdown",
   "metadata": {},
   "source": [
    "Question: At what temperature does cooling of the neutral medium starts being dominated by collisionally excited Hydrogen line emission?\n",
    "\n",
    "Most of the cooling in the neutral medium comes from CELs, in particular [CII]. Assuming that the ionisation fraction is low, such that the [CII] is primarily excited by collisions with H atoms, the cooling function is: \n",
    "\n",
    "$\\Lambda_{[CII]} = 0.06 \\left( \\frac{T}{100} \\right)^{0.13} e^{-92/T}$, \n",
    "\n",
    "where $\\Lambda_{[CII]}$ is in units of $10^{-25}$ erg cm$^3$ s$^{-1}$.\n",
    "\n",
    "Cooling from Ly$\\alpha$ is given by:\n",
    "$\\Lambda_{Ly\\alpha} = 7000 \\left( \\frac{x_e}{10^{-3}} \\right) \\left( \\frac{T}{8000} \\right)^{-0.5} e^{-118,000/T}$\n",
    "\n",
    "The Ly$\\alpha$ cooling will start to dominate when $\\Lambda_{Ly\\alpha} > \\Lambda_{[CII]}$, so we need to find at which temperature this occurs. \n"
   ]
  },
  {
   "cell_type": "code",
   "execution_count": 12,
   "metadata": {},
   "outputs": [],
   "source": [
    "import numpy as np\n",
    "import matplotlib.pyplot as plt"
   ]
  },
  {
   "cell_type": "code",
   "execution_count": 40,
   "metadata": {},
   "outputs": [],
   "source": [
    "a = 9.026E-08\n",
    "b = 0.63\n",
    "c = -117908\n",
    "u = np.log(a**(1/c))\n",
    "v = b/c"
   ]
  },
  {
   "cell_type": "code",
   "execution_count": 47,
   "metadata": {},
   "outputs": [],
   "source": [
    "T = np.arange(10.,20000.,10.)\n",
    "GCII = 0.06 * (T/100.)**0.13 * np.exp(-91.2/T) \n",
    "GLya = 7000.0 * (T/8000.)**-0.5 * np.exp(-118000.0/T) "
   ]
  },
  {
   "cell_type": "code",
   "execution_count": 48,
   "metadata": {},
   "outputs": [
    {
     "data": {
      "text/plain": [
       "[<matplotlib.lines.Line2D at 0x7fad2120af50>]"
      ]
     },
     "execution_count": 48,
     "metadata": {},
     "output_type": "execute_result"
    },
    {
     "data": {
      "image/png": "[encoded data removed]",
      "text/plain": [
       "<Figure size 432x288 with 1 Axes>"
      ]
     },
     "metadata": {
      "needs_background": "light"
     },
     "output_type": "display_data"
    }
   ],
   "source": [
    "plt.ylim([0,0.5])\n",
    "plt.plot(T,GCII)\n",
    "plt.plot(T,GLya)\n"
   ]
  },
  {
   "cell_type": "code",
   "execution_count": 43,
   "metadata": {},
   "outputs": [],
   "source": [
    "f = u - 1/T + v*np.log(T)"
   ]
  },
  {
   "cell_type": "code",
   "execution_count": 44,
   "metadata": {},
   "outputs": [
    {
     "name": "stdout",
     "output_type": "stream",
     "text": [
      "11410.0\n"
     ]
    }
   ],
   "source": [
    "print(T[np.argmin(np.abs(f))])"
   ]
  },
  {
   "cell_type": "code",
   "execution_count": null,
   "metadata": {},
   "outputs": [],
   "source": []
  }
 ],
 "metadata": {
  "kernelspec": {
   "display_name": "Python 3",
   "language": "python",
   "name": "python3"
  },
  "language_info": {
   "codemirror_mode": {
    "name": "ipython",
    "version": 3
   },
   "file_extension": ".py",
   "mimetype": "text/x-python",
   "name": "python",
   "nbconvert_exporter": "python",
   "pygments_lexer": "ipython3",
   "version": "3.7.6"
  }
 },
 "nbformat": 4,
 "nbformat_minor": 4
}
