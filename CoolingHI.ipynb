{
 "cells": [
  {
   "cell_type": "markdown",
   "metadata": {},
   "source": [
    "### At what temperature does cooling of the neutral medium starts being dominated by collisionally excited Hydrogen line emission?"
   ]
  },
  {
   "cell_type": "markdown",
   "metadata": {},
   "source": [
    "Most of the cooling in the neutral medium comes from CELs, in particular [CII]. Assuming that the ionisation fraction is low, such that the [CII] is primarily excited by collisions with H atoms, the cooling function is: \n",
    "\n",
    "$\\Lambda_{[CII]} = 0.06 \\left( \\frac{T}{100} \\right)^{0.13} e^{-92/T}$, \n",
    "\n",
    "where $\\Lambda_{[CII]}$ is in units of $10^{-25}$ erg cm$^3$ s$^{-1}$.\n",
    "\n",
    "Cooling from Ly$\\alpha$ is given by:\n",
    "$\\Lambda_{Ly\\alpha} = 7000 \\left( \\frac{x_e}{10^{-3}} \\right) \\left( \\frac{T}{8000} \\right)^{-0.5} e^{-118,000/T}$, \n",
    "\n",
    "where $x_e$ is the ionisation fraction. For this problem, we will assume that $x_e\\sim10^{-3}$, meaning that term of the equation can be ignored. \n",
    "\n",
    "The Ly$\\alpha$ cooling will start to dominate when $\\Lambda_{Ly\\alpha} > \\Lambda_{[CII]}$, so we need to find at which temperature this occurs. \n"
   ]
  },
  {
   "cell_type": "markdown",
   "metadata": {},
   "source": [
    "Let's find the temperature $T$ where $\\Lambda_{Ly\\alpha} = \\Lambda_{[CII]}$:\n",
    "\n",
    "$\\Lambda_{Ly\\alpha} = \\Lambda_{[CII]}$\n",
    "\n",
    "$\\frac{0.06}{100^{0.13}} T^{0.13} e^{-92/T} = \\frac{7000}{8000^{-0.5}} e^{-118,000/T}$\n",
    "\n",
    "$9.026\\times10^{-8} T^{0.63} = (e^{1/T})^{-117908}$\n",
    "\n",
    "Let's define the following to avoid having to carry these numbers: "
   ]
  },
  {
   "cell_type": "code",
   "execution_count": null,
   "metadata": {},
   "outputs": [],
   "source": [
    "# Importing the packages we'll need further down \n",
    "import math\n",
    "import numpy as np\n",
    "import matplotlib.pyplot as plt"
   ]
  },
  {
   "cell_type": "code",
   "execution_count": null,
   "metadata": {},
   "outputs": [],
   "source": [
    "a = 9.026E-08\n",
    "b = 0.63\n",
    "c = -117908"
   ]
  },
  {
   "cell_type": "markdown",
   "metadata": {},
   "source": [
    "The equation then is $aT^b = (e^{1/T})^c$ \n",
    "\n",
    "We then take the power of $1/c$ on each side, followed by taking the natural logarith, which gives: \n",
    "\n",
    "$\\ln a^{1/c} + \\frac{b}{c}\\ln T = \\frac{1}{T}$\n",
    "\n",
    "Again to simplify things, we'll define the following variables: "
   ]
  },
  {
   "cell_type": "code",
   "execution_count": null,
   "metadata": {},
   "outputs": [],
   "source": [
    "u = np.log(a**(1/c))\n",
    "v = b/c"
   ]
  },
  {
   "cell_type": "markdown",
   "metadata": {},
   "source": [
    "Making this substitution, we have the following function \n",
    "\n",
    "$f(T) = u - \\frac{1}{T} + v\\ln T$\n",
    "\n",
    "To solve our problem, we need to find the value of $T$ such that $f(T)=0$\n",
    "\n",
    "There is no obvious way of analytically finding the roots of this equation, so we have two choices: \n",
    "\n",
    "(1) if we can make a reasonable guess for what we expect $T$ to be when Ly$\\alpha$ starts to dominate over [CII] cooling, we can use Newton's method \n",
    "\n",
    "(2) we can numerically solve the equation. \n",
    "\n",
    "Let's try both of these methods here. "
   ]
  },
  {
   "cell_type": "markdown",
   "metadata": {},
   "source": [
    "#### (1) Using Newton's method to estimate the solution"
   ]
  },
  {
   "cell_type": "markdown",
   "metadata": {},
   "source": [
    "The method states that if we can make a decent first guess of the solution, we can iteratively converge to the real solution by doing: \n",
    "\n",
    "$T_{k+1} = T_k - \\frac{f(T_k)}{f\\prime(T_k)}$\n",
    "\n",
    "We know from first principles that the lowest temperature Ly$\\alpha$ could possibly start acting as a cooling agent is 8000K, so let's make a first guess that the cross-over temperature (where it takes over form [CII] as the main coolant) will be at about 10000K. \n",
    "\n",
    "We will also need the first derivative of our function, which in this case is: \n",
    "\n",
    "$f\\prime(T) = \\frac{1}{T^2} + \\frac{v}{T}$\n",
    "\n",
    "Our first guess is $T_0 = 10000$~K, and the first iteration will therefore be: \n",
    "$T_{1} = T_0 - \\frac{f(T_k)}{f\\prime(T_k)}$\n",
    "\n",
    "\n",
    "This can be done straightforwardly by hand, but since we're in a Jupyter Notebook, we'll let Python do the calculation for us :) \n",
    "\n",
    "First we define functions for $f(T)$ and $f\\prime(T)$:  "
   ]
  },
  {
   "cell_type": "code",
   "execution_count": null,
   "metadata": {},
   "outputs": [],
   "source": [
    "def fn(x):\n",
    "    fn = u - 1/x + v*np.log(x)\n",
    "    return(fn)"
   ]
  },
  {
   "cell_type": "code",
   "execution_count": null,
   "metadata": {},
   "outputs": [],
   "source": [
    "def fnp(x):\n",
    "    fnp = 1/x**2 + v/x\n",
    "    return(fnp)"
   ]
  },
  {
   "cell_type": "markdown",
   "metadata": {},
   "source": [
    "Let's use our initial guess and perform the first iteration using Newton's formula:"
   ]
  },
  {
   "cell_type": "code",
   "execution_count": null,
   "metadata": {},
   "outputs": [],
   "source": [
    "T0 = 10000.0\n",
    "T1 = x0 - fn(T0)/fnp(T0)\n",
    "print('initial guess: ',T0,' K')\n",
    "print('first iteration: ',T1,' K')"
   ]
  },
  {
   "cell_type": "markdown",
   "metadata": {},
   "source": [
    "If you were doing this by hand, you could stop here, or to convince yourself that your initial guess was sensible, you could do a few more iterations to see if you are converging: "
   ]
  },
  {
   "cell_type": "code",
   "execution_count": null,
   "metadata": {},
   "outputs": [],
   "source": [
    "# Try a second iteration to see if we have nearly converged \n",
    "T2 = T1 - fn(T1)/fnp(T1)\n",
    "T3 = T2 - fn(T2)/fnp(T2)\n",
    "T4 = T3 - fn(T3)/fnp(T3)\n",
    "print('second iteration: ',T2,' K')\n",
    "print('third iteration: ',T3,' K')\n",
    "print('fourth iteration: ',T4,' K')"
   ]
  },
  {
   "cell_type": "markdown",
   "metadata": {},
   "source": [
    "The answer to our prolem is that under the assumptions made about the specific density and ionisation state of the ISM (which are built into the cooling functions I gave you), cooling via Ly$\\alpha$ will start to dominate over [CII] if the temperature exceeds 11408K. "
   ]
  },
  {
   "cell_type": "markdown",
   "metadata": {},
   "source": [
    "#### (2) Numerical and graphic solution "
   ]
  },
  {
   "cell_type": "markdown",
   "metadata": {},
   "source": [
    "The above is a perfectly good solution, and we could stop there, but since we're here let's plot the two cooling curves and find a numerical solution. "
   ]
  },
  {
   "cell_type": "code",
   "execution_count": null,
   "metadata": {},
   "outputs": [],
   "source": [
    "# Defining a temperature array, from 10-20000K, with steps of 1K \n",
    "T = np.arange(10.,20000.,1.)\n",
    "\n",
    "# Writing down the two cooling functions\n",
    "GCII = 0.06 * (T/100.)**0.13 * np.exp(-91.2/T) \n",
    "GLya = 7000.0 * (T/8000.)**-0.5 * np.exp(-118000.0/T) "
   ]
  },
  {
   "cell_type": "code",
   "execution_count": null,
   "metadata": {},
   "outputs": [],
   "source": [
    "# Plotting the two cooling functions\n",
    "\n",
    "plt.ylim([0,0.3])\n",
    "plt.plot(T,GCII, label='[CII]')\n",
    "plt.plot(T,GLya, label=r'Ly$\\alpha$')\n",
    "plt.xlabel(r'$T~~[K]$')\n",
    "plt.ylabel(r'$\\Lambda~~[10^{-25} erg~cm^3~s^{-1}]$')\n",
    "plt.legend()\n"
   ]
  },
  {
   "cell_type": "markdown",
   "metadata": {},
   "source": [
    "As expected, we see that the Ly$\\alpha$ cooling really only kicks in at $\\sim 8000$K, and takes over from [CII] at $T \\sim 10000 $K. "
   ]
  },
  {
   "cell_type": "markdown",
   "metadata": {},
   "source": [
    "We can also find the numerical solution by looking for the value of T in our array that produces the value of $f(T)$ closest to 0.0"
   ]
  },
  {
   "cell_type": "code",
   "execution_count": null,
   "metadata": {},
   "outputs": [],
   "source": [
    "f = u - 1/T + v*np.log(T)\n",
    "print('T=',T[np.argmin(np.abs(f))],' K')"
   ]
  },
  {
   "cell_type": "markdown",
   "metadata": {},
   "source": [
    "And we see how we recover the same answer as with our estimation above. To get higher accuracy here, we should define the array T with a higher sampling, or use a more advanced method to find the numerical solution (not necessary here)"
   ]
  },
  {
   "cell_type": "code",
   "execution_count": null,
   "metadata": {},
   "outputs": [],
   "source": []
  }
 ],
 "metadata": {
  "kernelspec": {
   "display_name": "Python 3",
   "language": "python",
   "name": "python3"
  },
  "language_info": {
   "codemirror_mode": {
    "name": "ipython",
    "version": 3
   },
   "file_extension": ".py",
   "mimetype": "text/x-python",
   "name": "python",
   "nbconvert_exporter": "python",
   "pygments_lexer": "ipython3",
   "version": "3.7.6"
  }
 },
 "nbformat": 4,
 "nbformat_minor": 4
}
