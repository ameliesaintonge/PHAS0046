{
 "cells": [
  {
   "cell_type": "markdown",
   "metadata": {},
   "source": [
    "Question: At what temperature does cooling of the neutral medium starts being dominated by collisionally excited Hydrogen line emission?\n",
    "\n",
    "Most of the cooling in the neutral medium comes from CELs, in particular [CII]. Assuming that the ionisation fraction is low, and therefore that the [CII] is primarily excited by collisions with H atoms, the cooling function is: \n",
    "$\\Gamma_{[CII]} = 0.06 \\left( \\frac{T}{100} \\right)^{0.13} e^{-92/T}$, \n",
    "\n",
    "where $\\Gamma_{[CII]}$ is in units of $10^{-25}$ erg cm$^3$ s$^{-1}$)\n",
    "\n",
    "Cooling from Ly$\\alpha$ is given by:\n",
    "$\\Gamma_{Ly\\alpha} = 7000 \\left( \\frac{x_e}{10^{-3}} \\right) \\left( \\frac{T}{8000} \\right)^{-0.5} e^{-118,000/T}$\n"
   ]
  },
  {
   "cell_type": "code",
   "execution_count": 1,
   "metadata": {},
   "outputs": [],
   "source": [
    "import numpy as np"
   ]
  },
  {
   "cell_type": "code",
   "execution_count": null,
   "metadata": {},
   "outputs": [],
   "source": []
  }
 ],
 "metadata": {
  "kernelspec": {
   "display_name": "Python 3",
   "language": "python",
   "name": "python3"
  },
  "language_info": {
   "codemirror_mode": {
    "name": "ipython",
    "version": 3
   },
   "file_extension": ".py",
   "mimetype": "text/x-python",
   "name": "python",
   "nbconvert_exporter": "python",
   "pygments_lexer": "ipython3",
   "version": "3.7.6"
  }
 },
 "nbformat": 4,
 "nbformat_minor": 4
}
